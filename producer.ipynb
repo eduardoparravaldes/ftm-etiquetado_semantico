{
 "cells": [
  {
   "cell_type": "markdown",
   "metadata": {},
   "source": [
    "# PRODUCER KAFKA"
   ]
  },
  {
   "cell_type": "markdown",
   "metadata": {},
   "source": [
    "Paso 1, Ejecutamos el script producer. \n",
    "Que lo que hace es leer un fichero (quijote1.txt) linea a linea y separ las lineas en palabras e insertar cada palabra en un topic del gestor de colas Kafka"
   ]
  },
  {
   "cell_type": "code",
   "execution_count": 1,
   "metadata": {},
   "outputs": [],
   "source": [
    "from kafka import KafkaProducer\n",
    "import json"
   ]
  },
  {
   "cell_type": "code",
   "execution_count": 4,
   "metadata": {},
   "outputs": [],
   "source": [
    "#producer = KafkaProducer(bootstrap_servers='localhost:9092')\n",
    "#producer.send ('palabras',json.dumps('test message').encode('utf-8'))"
   ]
  },
  {
   "cell_type": "code",
   "execution_count": 63,
   "metadata": {
    "scrolled": false
   },
   "outputs": [
    {
     "name": "stdout",
     "output_type": "stream",
     "text": [
      "Terminado...:\n"
     ]
    }
   ],
   "source": [
    "\n",
    "producer = KafkaProducer(bootstrap_servers='localhost:9092')\n",
    "\n",
    "\n",
    "'''\n",
    "Leeremos un archivo de texto i lo insertamos en un topic de kafka\n",
    "'''\n",
    "\n",
    "# Abrir archivo para lectura\n",
    "nombrearchivo = 'quijote1.txt'\n",
    "with open(nombrearchivo, \"r\") as archivo:\n",
    "    contador = {} # diccionario para guardar ocurrencia de palabras\n",
    "    grupo = {} # diccionario para agrupar palabras según su longitud\n",
    "    for linea in archivo:\n",
    "        palabras = linea.split() # separar línea en palabras, por espacio en blanco\n",
    "        for palabra in palabras:\n",
    "            palabra = palabra.lower().strip(\".,\") # cambiar a minúscula y quitar puntuación\n",
    "            producer.send ('palabras', palabra )\n",
    "            #print (palabra)   \n",
    "\n",
    "# Cerrar archivo al finalizar\n",
    "archivo.close()\n",
    "# Mostrar información\n",
    "print('Terminado...:')\n",
    "    "
   ]
  },
  {
   "cell_type": "code",
   "execution_count": 8,
   "metadata": {},
   "outputs": [],
   "source": [
    "producer.flush()"
   ]
  },
  {
   "cell_type": "code",
   "execution_count": 30,
   "metadata": {},
   "outputs": [
    {
     "name": "stdout",
     "output_type": "stream",
     "text": [
      "En un lugar de la Mancha, de cuyo nombre no quiero acordarme, no ha mucho tiempo \n",
      "que vivía un hidalgo de los de lanza en astillero, adarga antigua, rocín flaco y \n",
      "galgo corredor. Una olla de algo más vaca que carnero, salpicón las más noches, \n",
      "duelos y quebrantos los sábados, lentejas los viernes, algún palomino de \n",
      "añadidura los domingos, consumían las tres partes de su hacienda. El resto della \n",
      "concluían sayo de velarte, calzas de velludo para las fiestas con sus pantuflos \n",
      "de lo mismo, los días de entre semana se honraba con su vellori de lo más fino. \n",
      "Tenía en su casa una ama que pasaba de los cuarenta, y una sobrina que no \n",
      "llegaba a los veinte, y un mozo de campo y plaza, que así ensillaba el rocín \n",
      "como tomaba la podadera. Frisaba la edad de nuestro hidalgo con los cincuenta \n",
      "años, era de complexión recia, seco de carnes, enjuto de rostro; gran madrugador \n",
      "y amigo de la caza. Quieren decir que tenía el sobrenombre de Quijada o Quesada \n",
      "(que en esto hay alguna diferencia en los autores que deste caso escriben), \n",
      "aunque por conjeturas verosímiles se deja entender que se llama Quijana; pero \n",
      "esto importa poco a nuestro cuento; basta que en la narración dél no se salga un \n",
      "punto de la verdad.\n",
      "\n",
      "Es, pues, de saber, que este sobredicho hidalgo, los ratos que estaba ocioso \n",
      "(que eran los más del año) se daba a leer libros de caballerías con tanta \n",
      "afición y gusto, que olvidó casi de todo punto el ejercicio de la caza, y aun la \n",
      "administración de su hacienda; y llegó a tanto su curiosidad y desatino en esto, \n",
      "que vendió muchas hanegas de tierra de sembradura, para comprar libros de \n",
      "caballerías en que leer; y así llevó a su casa todos cuantos pudo haber dellos; \n",
      "y de todos ningunos le parecían tan bien como los que compuso el famoso \n",
      "Feliciano de Silva: porque la claridad de su prosa, y aquellas intrincadas \n",
      "razones suyas, le parecían de perlas; y más cuando llegaba a leer aquellos \n",
      "requiebros y cartas de desafío, donde en muchas partes hallaba escrito: la razón \n",
      "de la sinrazón que a mi razón se hace, de tal manera mi razón enflaquece, que \n",
      "con razón me quejo de la vuestra fermosura, y también cuando leía: los altos \n",
      "cielos que de vuestra divinidad divinamente con las estrellas se fortifican, y \n",
      "os hacen merecedora del merecimiento que merece la vuestra grandeza. Con estas y \n",
      "semejantes razones perdía el pobre caballero el juicio, y desvelábase por \n",
      "entenderlas, y desentrañarles el sentido, que no se lo sacara, ni las entendiera \n",
      "el mismo Aristóteles, si resucitara para sólo ello. No estaba muy bien con las \n",
      "heridas que don Belianis daba y recibía, porque se imaginaba que por grandes \n",
      "maestros que le hubiesen curado, no dejaría de tener el rostro y todo el cuerpo \n",
      "lleno de cicatrices y señales; pero con todo alababa en su autor aquel acabar su \n",
      "libro con la promesa de aquella inacabable aventura, y muchas veces le vino \n",
      "deseo de tomar la pluma, y darle fin al pie de la letra como allí se promete; y \n",
      "sin duda alguna lo hiciera, y aun saliera con ello, si otros mayores y continuos \n",
      "pensamientos no se lo estorbaran.\n",
      "\n",
      "Tuvo muchas veces competencia con el cura de su lugar (que era hombre docto \n",
      "graduado en Sigüenza), sobre cuál había sido mejor caballero, Palmerín de \n",
      "Inglaterra o Amadís de Gaula; mas maese Nicolás, barbero del mismo pueblo, decía \n",
      "que ninguno llegaba al caballero del Febo, y que si alguno se le podía comparar, \n",
      "era don Galaor, hermano de Amadís de Gaula, porque tenía muy acomodada condición \n",
      "para todo; que no era caballero melindroso, ni tan llorón como su hermano, y que \n",
      "en lo de la valentía no le iba en zaga.\n",
      "\n",
      "En resolución, él se enfrascó tanto en su lectura, que se le pasaban las noches \n",
      "leyendo de claro en claro, y los días de turbio en turbio, y así, del poco \n",
      "dormir y del mucho leer, se le secó el cerebro, de manera que vino a perder el \n",
      "juicio. Llenósele la fantasía de todo aquello que leía en los libros, así de \n",
      "encantamientos, como de pendencias, batallas, desafíos, heridas, requiebros, \n",
      "amores, tormentas y disparates imposibles, y asentósele de tal modo en la \n",
      "imaginación que era verdad toda aquella máquina de aquellas soñadas invenciones \n",
      "que leía, que para él no había otra historia más cierta en el mundo.\n",
      "\n",
      "Decía él, que el Cid Ruy Díaz había sido muy buen caballero; pero que no tenía \n",
      "que ver con el caballero de la ardiente espada, que de sólo un revés había \n",
      "partido por medio dos fieros y descomunales gigantes. Mejor estaba con Bernardo \n",
      "del Carpio, porque en Roncesvalle había muerto a Roldán el encantado, valiéndose \n",
      "de la industria de Hércules, cuando ahogó a Anteo, el hijo de la Tierra, entre \n",
      "los brazos. Decía mucho bien del gigante Morgante, porque con ser de aquella \n",
      "generación gigantesca, que todos son soberbios y descomedidos, él solo era \n",
      "afable y bien criado; pero sobre todos estaba bien con Reinaldos de Montalbán, y \n",
      "más cuando le veía salir de su castillo y robar cuantos topaba, y cuando en \n",
      "Allende robó aquel ídolo de Mahoma, que era todo de oro, según dice su historia. \n",
      "Diera él, por dar una mano de coces al traidor de Galalón, al ama que tenía y \n",
      "aun a su sobrina de añadidura.\n",
      "\n",
      "En efecto, rematado ya su juicio, vino a dar en el más extraño pensamiento que \n",
      "jamás dio loco en el mundo, y fue que le pareció convenible y necesario, así \n",
      "para el aumento de su honra, como para el servicio de su república, hacerse \n",
      "caballero andante, e irse por todo el mundo con sus armas y caballo a buscar las \n",
      "aventuras, y a ejercitarse en todo aquello que él había leído, que los \n",
      "caballeros andantes se ejercitaban, deshaciendo todo género de agravio, y \n",
      "poniéndose en ocasiones y peligros, donde acabándolos, cobrase eterno nombre y \n",
      "fama.\n",
      "\n",
      "Imaginábase el pobre ya coronado por el valor de su brazo por lo menos del \n",
      "imperio de Trapisonda: y así con estos tan agradables pensamientos, llevado del \n",
      "estraño gusto que en ellos sentía, se dió priesa a poner en efecto lo que \n",
      "deseaba. Y lo primero que hizo, fue limpiar unas armas, que habían sido de sus \n",
      "bisabuelos, que, tomadas de orín y llenas de moho, luengos siglos había que \n",
      "estaban puestas y olvidadas en un rincón. Limpiólas y aderezólas lo mejor que \n",
      "pudo; pero vió que tenían una gran falta, y era que no tenía celada de encaje, \n",
      "sino morrión simple; mas a esto suplió su industria, porque de cartones hizo un \n",
      "modo de media celada, que encajada con el morrión, hacía una apariencia de \n",
      "celada entera. Es verdad que para probar si era fuerte, y podía estar al riesgo \n",
      "de una cuchillada, sacó su espada, y le dió dos golpes, y con el primero y en un \n",
      "punto deshizo lo que había hecho en una semana: y no dejó de parecerle mal la \n",
      "facilidad con que la había hecho pedazos, y por asegurarse de este peligro, lo \n",
      "tornó a hacer de nuevo, poniéndole unas barras de hierro por de dentro de tal \n",
      "manera, que él quedó satisfecho de su fortaleza; y, sin querer hacer nueva \n",
      "experiencia de ella, la diputó y tuvo por celada finísima de encaje. Fue luego a \n",
      "ver a su rocín, y aunque tenía más cuartos que un real, y más tachas que el \n",
      "caballo de Gonela, que tantum pellis, et ossa fuit, le pareció que ni el \n",
      "Bucéfalo de Alejandro, ni Babieca el del Cid con él se igualaban. Cuatro días se \n",
      "le pasaron en imaginar qué nombre le podría: porque, según se decía él a sí \n",
      "mismo, no era razón que caballo de caballero tan famoso, y tan bueno él por sí, \n",
      "estuviese sin nombre conocido; y así procuraba acomodársele, de manera que \n",
      "declarase quien había sido, antes que fuese de caballero andante, y lo que era \n",
      "entones: pues estaba muy puesto en razón, que mudando su señor estado, mudase él \n",
      "también el nombre; y le cobrase famoso y de estruendo, como convenía a la nueva \n",
      "orden y al nuevo ejercicio que ya profesaba: y así después de muchos nombres que \n",
      "formó, borró y quitó, añadió, deshizo y tornó a hacer en su memoria e \n",
      "imaginación, al fin le vino a llamar ROCINANTE, nombre a su parecer alto, sonoro \n",
      "y significativo de lo que había sido cuando fue rocín, antes de lo que ahora \n",
      "era, que era antes y primero de todos los rocines del mundo. Puesto nombre y tan \n",
      "a su gusto a su caballo, quiso ponérsele a sí mismo, y en este pensamiento, duró \n",
      "otros ocho días, y al cabo se vino a llamar DON QUIJOTE, de donde como queda \n",
      "dicho, tomaron ocasión los autores de esta tan verdadera historia, que sin duda \n",
      "se debía llamar Quijada, y no Quesada como otros quisieron decir. Pero \n",
      "acordándose que el valeroso Amadís, no sólo se había contentado con llamarse \n",
      "Amadís a secas, sino que añadió el nombre de su reino y patria, por hacerla \n",
      "famosa, y se llamó Amadís de Gaula, así quiso, como buen caballero, añadir al \n",
      "suyo el nombre de la suya, y llamarse DON QUIJOTE DE LA MANCHA, con que a su \n",
      "parecer declaraba muy al vivo su linaje y patria, y la honraba con tomar el \n",
      "sobrenombre della.\n",
      "\n",
      "Limpias, pues, sus armas, hecho del morrión celada, puesto nombre a su rocín, y \n",
      "confirmándose a sí mismo, se dió a entender que no le faltaba otra cosa, sino \n",
      "buscar una dama de quien enamorarse, porque el caballero andante sin amores, era \n",
      "árbol sin hojas y sin fruto, y cuerpo sin alma. Decíase él: si yo por malos de \n",
      "mis pecados, por por mi buena suerte, me encuentro por ahí con algún gigante, \n",
      "como de ordinario les acontece a los caballeros andantes, y le derribo de un \n",
      "encuentro, o le parto por mitad del cuerpo, o finalmente, le venzo y le rindo, \n",
      "¿no será bien tener a quién enviarle presentado, y que entre y se hinque de \n",
      "rodillas ante mi dulce señora, y diga con voz humilde y rendida: yo señora, soy \n",
      "el gigante Caraculiambro, señor de la ínsula Malindrania, a quien venció en \n",
      "singular batalla el jamás como se debe alabado caballero D. Quijote de la \n",
      "Mancha, el cual me mandó que me presentase ante la vuestra merced, para que la \n",
      "vuestra grandeza disponga de mí a su talante? ¡Oh, cómo se holgó nuestro buen \n",
      "caballero, cuando hubo hecho este discurso, y más cuando halló a quién dar \n",
      "nombre de su dama! Y fue, a lo que se cree, que en un lugar cerca del suyo había \n",
      "una moza labradora de muy buen parecer, de quien él un tiempo anduvo enamorado, \n",
      "aunque según se entiende, ella jamás lo supo ni se dió cata de ello. Llamábase \n",
      "Aldonza Lorenzo, y a esta le pareció ser bien darle título de señora de sus \n",
      "pensamientos; y buscándole nombre que no desdijese mucho del suyo, y que tirase \n",
      "y se encaminase al de princesa y gran señora, vino a llamarla DULCINEA DEL \n",
      "TOBOSO, porque era natural del Toboso, nombre a su parecer músico y peregrino y \n",
      "significativo, como todos los demás que a él y a sus cosas había puesto.\n",
      "Terminado...:\n"
     ]
    }
   ],
   "source": [
    "\n",
    "producer = KafkaProducer(bootstrap_servers='localhost:9092')\n",
    "\n",
    "\n",
    "'''\n",
    "Leeremos un archivo de texto e insertarlo en un topic de kafka\n",
    "'''\n",
    "\n",
    "# Abrir archivo para lectura\n",
    "nombrearchivo = 'quijote1.txt'\n",
    "with open(nombrearchivo, \"r\") as archivo:\n",
    "    data = archivo.read()\n",
    "    producer.send ('etiquetar', data )\n",
    "    print (data)   \n",
    "\n",
    "# Cerrar archivo al finalizar\n",
    "archivo.close()\n",
    "# Mostrar información\n",
    "print('Terminado...:')"
   ]
  },
  {
   "cell_type": "code",
   "execution_count": null,
   "metadata": {},
   "outputs": [],
   "source": []
  },
  {
   "cell_type": "code",
   "execution_count": 49,
   "metadata": {},
   "outputs": [
    {
     "data": {
      "text/plain": [
       "['aks', 'akss', 'saks']"
      ]
     },
     "execution_count": 49,
     "metadata": {},
     "output_type": "execute_result"
    }
   ],
   "source": [
    "arr_invalid = ['aks', 'rabbbit', 'dog']\n",
    "\n",
    "strings = [ \"aks\", \"akss\",\"foo\", \"saks\"]\n",
    "\n",
    "\n",
    "filt = list(filter(lambda x: any(s in x.lower() for s in arr_invalid),strings))\n",
    "filt"
   ]
  },
  {
   "cell_type": "code",
   "execution_count": null,
   "metadata": {},
   "outputs": [],
   "source": []
  }
 ],
 "metadata": {
  "kernelspec": {
   "display_name": "Python 2",
   "language": "python",
   "name": "python2"
  },
  "language_info": {
   "codemirror_mode": {
    "name": "ipython",
    "version": 2
   },
   "file_extension": ".py",
   "mimetype": "text/x-python",
   "name": "python",
   "nbconvert_exporter": "python",
   "pygments_lexer": "ipython2",
   "version": "2.7.14"
  }
 },
 "nbformat": 4,
 "nbformat_minor": 2
}
