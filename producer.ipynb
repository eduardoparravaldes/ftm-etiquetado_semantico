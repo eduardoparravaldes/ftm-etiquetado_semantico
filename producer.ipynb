{
 "cells": [
  {
   "cell_type": "markdown",
   "metadata": {},
   "source": [
    "# PRODUCER KAFKA"
   ]
  },
  {
   "cell_type": "markdown",
   "metadata": {},
   "source": [
    "Script Producer con Funciones para leer ficheros y enviar a kafka"
   ]
  },
  {
   "cell_type": "code",
   "execution_count": 7,
   "metadata": {},
   "outputs": [],
   "source": [
    "from kafka import KafkaProducer\n",
    "import json\n",
    "producer = KafkaProducer(bootstrap_servers='localhost:9092')"
   ]
  },
  {
   "cell_type": "code",
   "execution_count": 25,
   "metadata": {},
   "outputs": [],
   "source": [
    "def upload_full_file(file_param,topic_param):\n",
    "    '''\n",
    "    Lee un archivo y lo envia a un topic de kafka\n",
    "    '''\n",
    "    try:\n",
    "        # Abrir archivo para lectura\n",
    "        with open(file_param, \"r\") as file_object:\n",
    "            data = file_object.read() \n",
    "            producer.send (topic_param, key=file_param.split(\".\")[0], value=data )  \n",
    "        # Cerrar archivo al finalizar\n",
    "        file_object.close()\n",
    "        # Mostrar información\n",
    "        print('Enviado OK!')  \n",
    "    except IOError as e:\n",
    "        print \"I/O error({0}): {1} : {2}\".format(e.errno, e.strerror, file_param)\n",
    "    except: #handle other exceptions such as attribute errors\n",
    "        print \"Unexpected error:\", sys.exc_info()[0]"
   ]
  },
  {
   "cell_type": "code",
   "execution_count": 9,
   "metadata": {},
   "outputs": [],
   "source": [
    "def upload_file_by_lines(file_param,topic_param):\n",
    "    '''\n",
    "    Lee un archivo y lo envia a un topic de kafka\n",
    "    '''\n",
    "    try:\n",
    "        # Abrir archivo para lectura\n",
    "        countLinea = int(1)\n",
    "        with open(file_param, \"r\") as file_object:\n",
    "            data = file_object.read()\n",
    "            for linea in data.split(\"\\n\"):\n",
    "                producer.send (topic_param, linea) \n",
    "        # Cerrar archivo al finalizar\n",
    "        file_object.close()\n",
    "        # Mostrar información\n",
    "        print('Enviado OK!')  \n",
    "    except IOError as e:\n",
    "        print \"I/O error({0}): {1} : {2}\".format(e.errno, e.strerror, file_param)\n",
    "    except: #handle other exceptions such as attribute errors\n",
    "        print \"Unexpected error:\", sys.exc_info()[0]"
   ]
  },
  {
   "cell_type": "code",
   "execution_count": 10,
   "metadata": {},
   "outputs": [],
   "source": [
    "def upload_file_by_words(file_param,topic_param):\n",
    "    '''\n",
    "    Lee un archivo y lo envia a un topic de kafka\n",
    "    '''\n",
    "    try:\n",
    "        # Abrir archivo para lectura\n",
    "        with open(file_param, \"r\") as file_object:\n",
    "            data = file_object.read()\n",
    "            for linea in data.split(\"\\n\"):\n",
    "                palabras = linea.split() # separar línea en palabras, por espacio en blanco\n",
    "                for palabra in palabras:\n",
    "                    palabra = palabra.lower().strip(\".,\") # cambiar a minúscula y quitar puntuación\n",
    "                    producer.send (topic_param, palabra )\n",
    "        # Cerrar archivo al finalizar\n",
    "        file_object.close()\n",
    "        # Mostrar información\n",
    "        print('Enviado OK!') \n",
    "    except IOError as e:\n",
    "        print \"I/O error({0}): {1} : {2}\".format(e.errno, e.strerror, file_param)\n",
    "    except: #handle other exceptions such as attribute errors\n",
    "        print \"Unexpected error:\", sys.exc_info()[0]"
   ]
  },
  {
   "cell_type": "markdown",
   "metadata": {},
   "source": [
    "Ejemplos de llamadas a las funciones"
   ]
  },
  {
   "cell_type": "code",
   "execution_count": 38,
   "metadata": {},
   "outputs": [
    {
     "name": "stdout",
     "output_type": "stream",
     "text": [
      "Enviado OK!\n"
     ]
    }
   ],
   "source": [
    "upload_full_file('quijote_test.txt', 'files_to_tag')"
   ]
  },
  {
   "cell_type": "code",
   "execution_count": 6,
   "metadata": {},
   "outputs": [],
   "source": [
    "#upload_file_by_lines('quijote1.txt', \"lines\")"
   ]
  },
  {
   "cell_type": "code",
   "execution_count": 7,
   "metadata": {},
   "outputs": [],
   "source": [
    "#upload_file_by_lines('quijote1.txt', \"words\")"
   ]
  }
 ],
 "metadata": {
  "kernelspec": {
   "display_name": "Python 2",
   "language": "python",
   "name": "python2"
  },
  "language_info": {
   "codemirror_mode": {
    "name": "ipython",
    "version": 2
   },
   "file_extension": ".py",
   "mimetype": "text/x-python",
   "name": "python",
   "nbconvert_exporter": "python",
   "pygments_lexer": "ipython2",
   "version": "2.7.14"
  }
 },
 "nbformat": 4,
 "nbformat_minor": 2
}
