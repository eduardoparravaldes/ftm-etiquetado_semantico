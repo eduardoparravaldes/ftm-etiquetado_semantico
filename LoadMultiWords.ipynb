{
 "cells": [
  {
   "cell_type": "markdown",
   "metadata": {},
   "source": [
    "## Cargar Ficheros Multilingual-USAS\n",
    "#Spanish Semantic MWE Lexicon\n",
    "\n",
    "multipalabras  \n",
    "https://github.com/UCREL/Multilingual-USAS/blob/master/Spanish/mwes_es.usas\n",
    "\n"
   ]
  },
  {
   "cell_type": "code",
   "execution_count": 1,
   "metadata": {},
   "outputs": [],
   "source": [
    "#Creamos un RDD a partir de una fuente de almacenamiento utilizando sc.textFile del SparkContext\n",
    "# Aplicamos las transformaciones (map: aplica una función a cada elemento de la colección)  para limpiar los datos y preparar la tabla\n",
    "# Importar tipos de datos\n",
    "\n",
    "from pyspark.sql.types import *\n",
    "import re #This module provides regular expression \n",
    "\n",
    "p = re.compile( '(_adj|_adv|_art|_part|_conj|_intj|_noun|num_|_prep|_pron|_verb|_pnoun|_port|_abbr|_sys|_punc|_fw)') #Pattern for cleaning text \n",
    "multi_word_RDD = sc.textFile('mwes_es.usas.txt', 8)\n",
    "multi_word_filterRDD= multi_word_RDD.filter(lambda l: not l.startswith(\"#\") and len(l) > 1).map(lambda elemento: p.sub( '', elemento)).map(lambda x: x.encode('ascii','ignore').split('\\t'))"
   ]
  },
  {
   "cell_type": "code",
   "execution_count": 2,
   "metadata": {},
   "outputs": [],
   "source": [
    "# Creamos el esquema\n",
    "\n",
    "fields_mw = [StructField(\"TOKEN\", StringType(), True),StructField(\"SEMTAG\", StringType(), True)]\n",
    "schema_mw = StructType(fields_mw)\n",
    "\n",
    "# Crear el dataframe (infiriendo el esquema)\n",
    "dfmulti_words = spark.createDataFrame(multi_word_filterRDD,schema_mw )\n",
    "\n",
    "# Registrar el DataFrame como tabla.\n",
    "dfmulti_words.createOrReplaceTempView(\"multi_words\")\n",
    "\n",
    "\n",
    "# Ejecutar SQL\n",
    "multi_word_query = spark.sql(\"SELECT SEMTAG, TOKEN FROM multi_words WHERE TOKEN = 'A Arnoia' \")"
   ]
  },
  {
   "cell_type": "code",
   "execution_count": 3,
   "metadata": {},
   "outputs": [
    {
     "name": "stdout",
     "output_type": "stream",
     "text": [
      "+------+--------+\n",
      "|SEMTAG|   TOKEN|\n",
      "+------+--------+\n",
      "|    Z2|A Arnoia|\n",
      "+------+--------+\n",
      "\n"
     ]
    }
   ],
   "source": [
    "multi_word_query.show()"
   ]
  },
  {
   "cell_type": "code",
   "execution_count": 4,
   "metadata": {},
   "outputs": [],
   "source": [
    "#if multi_word_query.collect()[0].TOKEN == \"A Arnoia\":\n",
    "#    print multi_word_query.collect()[0].SEMTAG , multi_word_query.collect()[0].TOKEN\n"
   ]
  },
  {
   "cell_type": "code",
   "execution_count": 5,
   "metadata": {},
   "outputs": [],
   "source": [
    "# Guardamos Fichero en formato parquet\n",
    "spark.sql(\"SELECT * FROM multi_words\").write.save(\"multi_words.parquet\", mode='overwrite')"
   ]
  },
  {
   "cell_type": "code",
   "execution_count": 9,
   "metadata": {},
   "outputs": [
    {
     "name": "stdout",
     "output_type": "stream",
     "text": [
      "+-------------------+------+\n",
      "|              TOKEN|SEMTAG|\n",
      "+-------------------+------+\n",
      "|El Port de la Selva|    Z2|\n",
      "+-------------------+------+\n",
      "\n"
     ]
    }
   ],
   "source": [
    "# Para cargarlo desde Parquet y hacer querys\n",
    "df = spark.read.load(\"multi_words.parquet\")\n",
    "\n",
    "# Registrar el DataFrame como tabla.\n",
    "df.createOrReplaceTempView(\"multi_words\")\n",
    "\n",
    "palabra = \"El Port de la Selva\"\n",
    "query = 'SELECT * FROM dbsnp where rs_id=\"{}\"'\n",
    "\n",
    "# Ejecutar SQL\n",
    "multi_word_query = spark.sql('SELECT *  FROM multi_words WHERE TOKEN ==\"{}\"'.format(palabra))\n",
    "multi_word_query.show()"
   ]
  },
  {
   "cell_type": "code",
   "execution_count": null,
   "metadata": {},
   "outputs": [],
   "source": [
    "\"SELECT col1 from table where col2>{0} limit {1}\".format(var2,q25)\n",
    "\n",
    "shepherd = \"Mary\"\n",
    ">>> string_in_string = \"Shepherd {} is on duty.\".format(shepherd)"
   ]
  }
 ],
 "metadata": {
  "kernelspec": {
   "display_name": "Python 2",
   "language": "python",
   "name": "python2"
  },
  "language_info": {
   "codemirror_mode": {
    "name": "ipython",
    "version": 2
   },
   "file_extension": ".py",
   "mimetype": "text/x-python",
   "name": "python",
   "nbconvert_exporter": "python",
   "pygments_lexer": "ipython2",
   "version": "2.7.14"
  }
 },
 "nbformat": 4,
 "nbformat_minor": 2
}
