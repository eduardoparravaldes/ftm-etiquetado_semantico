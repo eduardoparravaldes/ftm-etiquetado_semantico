{
 "cells": [
  {
   "cell_type": "code",
   "execution_count": 13,
   "metadata": {},
   "outputs": [],
   "source": [
    "df = spark.read.load(\"multi_words.parquet\")"
   ]
  },
  {
   "cell_type": "code",
   "execution_count": 16,
   "metadata": {},
   "outputs": [],
   "source": [
    "# Registrar el DataFrame como tabla.\n",
    "df.createOrReplaceTempView(\"multi_words\")\n",
    "\n",
    "# Ejecutar SQL\n",
    "multi_word_query = spark.sql(\"SELECT *  FROM multi_words\")"
   ]
  },
  {
   "cell_type": "code",
   "execution_count": 19,
   "metadata": {},
   "outputs": [
    {
     "name": "stdout",
     "output_type": "stream",
     "text": [
      "+--------------------+------+\n",
      "|               TOKEN|SEMTAG|\n",
      "+--------------------+------+\n",
      "| El Port de la Selva|    Z2|\n",
      "|          El Pozuelo|    Z2|\n",
      "|El Prat de Llobregat|    Z2|\n",
      "|    El Prats de Reis|    Z2|\n",
      "|        El Provencio|    Z2|\n",
      "|El Puente del Arz...|    Z2|\n",
      "|El Puerto de Sant...|    Z2|\n",
      "| El Pueyo de Araguás|    Z2|\n",
      "|El Puig de Santa ...|    Z2|\n",
      "|  El Ràfol D'almúnia|    Z2|\n",
      "|El Rasillo de Cam...|    Z2|\n",
      "|   El Real de Gandia|    Z2|\n",
      "|  El Real de la Jara|    Z2|\n",
      "|El Real de San Vi...|    Z2|\n",
      "|         El Recuenco|    Z2|\n",
      "|            El Redal|    Z2|\n",
      "|          El Robledo|    Z2|\n",
      "|          El Romeral|    Z2|\n",
      "|        El Ronquillo|    Z2|\n",
      "|          El Rosario|    Z2|\n",
      "+--------------------+------+\n",
      "only showing top 20 rows\n",
      "\n"
     ]
    }
   ],
   "source": [
    "multi_word_query.show()"
   ]
  },
  {
   "cell_type": "code",
   "execution_count": null,
   "metadata": {},
   "outputs": [],
   "source": []
  }
 ],
 "metadata": {
  "kernelspec": {
   "display_name": "Python 2",
   "language": "python",
   "name": "python2"
  },
  "language_info": {
   "codemirror_mode": {
    "name": "ipython",
    "version": 2
   },
   "file_extension": ".py",
   "mimetype": "text/x-python",
   "name": "python",
   "nbconvert_exporter": "python",
   "pygments_lexer": "ipython2",
   "version": "2.7.14"
  }
 },
 "nbformat": 4,
 "nbformat_minor": 2
}
